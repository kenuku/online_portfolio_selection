{
 "cells": [
  {
   "cell_type": "code",
   "execution_count": 38,
   "metadata": {
    "collapsed": true
   },
   "outputs": [],
   "source": [
    "import pandas as pd\n",
    "import sys\n",
    "import os\n",
    "\n",
    "from datetime import datetime"
   ]
  },
  {
   "cell_type": "code",
   "execution_count": 9,
   "metadata": {
    "collapsed": true
   },
   "outputs": [],
   "source": [
    "columns_name = ['ticker', 'per', 'date', 'time', 'close']"
   ]
  },
  {
   "cell_type": "code",
   "execution_count": 167,
   "metadata": {
    "collapsed": true
   },
   "outputs": [],
   "source": [
    "def change_price(s):\n",
    "    splited = s.split('.')\n",
    "    part1 = int(''.join(splited[:-1]))\n",
    "    part2 = float('0.' + splited[-1])\n",
    "    res = part1 + part2\n",
    "    return res\n",
    "\n",
    "\n",
    "def read_files():\n",
    "    columns_name = ['ticker', 'per', 'date', 'time', 'close']\n",
    "    dfs = {}\n",
    "    for f_name in os.listdir('moscow_exchange'):\n",
    "        path = 'moscow_exchange/' + f_name\n",
    "        df = pd.read_csv(path, names=columns_name, skiprows=1)\n",
    "        ticker = df['ticker'][0]\n",
    "        dfs[ticker] = df.drop(['ticker', 'per', 'time'], axis=1)\n",
    "        \n",
    "        if dfs[ticker]['close'].dtype == 'O':\n",
    "            dfs[ticker]['close'] = dfs[ticker]['close'].apply(change_price)\n",
    "        \n",
    "    return dfs\n",
    "\n",
    "\n",
    "def filter_companies(dfs_first_dates, date):\n",
    "    filtered_list = []\n",
    "    for k, v in dfs_first_dates.items():\n",
    "        if v < date:\n",
    "            filtered_list.append(k)\n",
    "    return filtered_list\n",
    "\n",
    "\n",
    "def make_df(dfs, date_to_filter):\n",
    "    old_companies = filter_companies(dfs_first_dates, date_to_filter)\n",
    "    old_companies_dates_dfs = {}\n",
    "    for comp in old_companies:\n",
    "        old_companies_dates_dfs[comp] = set(dfs[comp]['date'])\n",
    "\n",
    "    common_dates = old_companies_dates_dfs[next(iter(old_companies_dates_dfs))]\n",
    "    for k, v in old_companies_dates_dfs.items():\n",
    "        common_dates.intersection_update(v)\n",
    "    \n",
    "    dfs_old = []\n",
    "    for comp in old_companies:\n",
    "        df = dfs[comp][dfs[comp]['date'].isin(common_dates)]\n",
    "        df.drop('date', inplace=True, axis=1)\n",
    "        df.columns = [comp]\n",
    "        dfs_old.append(df.reset_index(drop=True))\n",
    "    res_df = pd.concat(dfs_old, axis=1)\n",
    "    return res_df"
   ]
  },
  {
   "cell_type": "code",
   "execution_count": 173,
   "metadata": {
    "collapsed": true
   },
   "outputs": [],
   "source": [
    "dfs = read_files()"
   ]
  },
  {
   "cell_type": "code",
   "execution_count": 67,
   "metadata": {
    "collapsed": true
   },
   "outputs": [],
   "source": [
    "dfs_first_dates = {}\n",
    "for k, v in dfs.items():\n",
    "    first_date = datetime.date(datetime.strptime(str(v['date'].iloc[0]), \"%Y%m%d\"))\n",
    "    dfs_first_dates[k] = first_date"
   ]
  },
  {
   "cell_type": "code",
   "execution_count": 219,
   "metadata": {
    "collapsed": false
   },
   "outputs": [
    {
     "name": "stderr",
     "output_type": "stream",
     "text": [
      "/home/yury/anaconda3/lib/python3.6/site-packages/ipykernel/__main__.py:14: SettingWithCopyWarning: \n",
      "A value is trying to be set on a copy of a slice from a DataFrame\n",
      "\n",
      "See the caveats in the documentation: http://pandas.pydata.org/pandas-docs/stable/indexing.html#indexing-view-versus-copy\n"
     ]
    }
   ],
   "source": [
    "df_main_stocks = make_df(dfs, datetime.date(datetime(2006, 1, 1)))"
   ]
  },
  {
   "cell_type": "code",
   "execution_count": 233,
   "metadata": {
    "collapsed": false
   },
   "outputs": [
    {
     "data": {
      "text/html": [
       "<div>\n",
       "<style scoped>\n",
       "    .dataframe tbody tr th:only-of-type {\n",
       "        vertical-align: middle;\n",
       "    }\n",
       "\n",
       "    .dataframe tbody tr th {\n",
       "        vertical-align: top;\n",
       "    }\n",
       "\n",
       "    .dataframe thead th {\n",
       "        text-align: right;\n",
       "    }\n",
       "</style>\n",
       "<table border=\"1\" class=\"dataframe\">\n",
       "  <thead>\n",
       "    <tr style=\"text-align: right;\">\n",
       "      <th></th>\n",
       "      <th>SBER</th>\n",
       "      <th>TRNFP</th>\n",
       "      <th>LKOH</th>\n",
       "      <th>VSMO</th>\n",
       "      <th>SNGS</th>\n",
       "      <th>AFLT</th>\n",
       "      <th>KMAZ</th>\n",
       "      <th>CHMF</th>\n",
       "      <th>RTKM</th>\n",
       "      <th>MTSS</th>\n",
       "      <th>SVAV</th>\n",
       "      <th>TATN</th>\n",
       "      <th>GMKN</th>\n",
       "    </tr>\n",
       "  </thead>\n",
       "  <tbody>\n",
       "    <tr>\n",
       "      <th>0</th>\n",
       "      <td>19180.00</td>\n",
       "      <td>26500.00</td>\n",
       "      <td>1053.97</td>\n",
       "      <td>3300.0</td>\n",
       "      <td>21.345</td>\n",
       "      <td>42.29</td>\n",
       "      <td>13.75</td>\n",
       "      <td>208.00</td>\n",
       "      <td>57.49</td>\n",
       "      <td>191.0</td>\n",
       "      <td>410.0</td>\n",
       "      <td>52.912</td>\n",
       "      <td>1736.50</td>\n",
       "    </tr>\n",
       "    <tr>\n",
       "      <th>1</th>\n",
       "      <td>19295.00</td>\n",
       "      <td>28501.00</td>\n",
       "      <td>1098.70</td>\n",
       "      <td>3425.0</td>\n",
       "      <td>22.098</td>\n",
       "      <td>42.20</td>\n",
       "      <td>15.73</td>\n",
       "      <td>216.00</td>\n",
       "      <td>57.70</td>\n",
       "      <td>194.0</td>\n",
       "      <td>412.0</td>\n",
       "      <td>55.397</td>\n",
       "      <td>1745.85</td>\n",
       "    </tr>\n",
       "    <tr>\n",
       "      <th>2</th>\n",
       "      <td>20308.00</td>\n",
       "      <td>29500.00</td>\n",
       "      <td>1117.39</td>\n",
       "      <td>3500.0</td>\n",
       "      <td>22.483</td>\n",
       "      <td>42.50</td>\n",
       "      <td>15.45</td>\n",
       "      <td>225.00</td>\n",
       "      <td>58.68</td>\n",
       "      <td>198.0</td>\n",
       "      <td>413.0</td>\n",
       "      <td>57.984</td>\n",
       "      <td>1805.22</td>\n",
       "    </tr>\n",
       "    <tr>\n",
       "      <th>3</th>\n",
       "      <td>20885.00</td>\n",
       "      <td>29280.00</td>\n",
       "      <td>1133.51</td>\n",
       "      <td>3560.0</td>\n",
       "      <td>22.700</td>\n",
       "      <td>43.10</td>\n",
       "      <td>15.66</td>\n",
       "      <td>229.99</td>\n",
       "      <td>59.87</td>\n",
       "      <td>205.0</td>\n",
       "      <td>419.0</td>\n",
       "      <td>57.512</td>\n",
       "      <td>1844.88</td>\n",
       "    </tr>\n",
       "    <tr>\n",
       "      <th>4</th>\n",
       "      <td>20991.03</td>\n",
       "      <td>28905.02</td>\n",
       "      <td>1139.50</td>\n",
       "      <td>3545.0</td>\n",
       "      <td>22.670</td>\n",
       "      <td>43.00</td>\n",
       "      <td>15.87</td>\n",
       "      <td>230.00</td>\n",
       "      <td>60.00</td>\n",
       "      <td>207.5</td>\n",
       "      <td>420.0</td>\n",
       "      <td>56.878</td>\n",
       "      <td>1849.99</td>\n",
       "    </tr>\n",
       "  </tbody>\n",
       "</table>\n",
       "</div>"
      ],
      "text/plain": [
       "       SBER     TRNFP     LKOH    VSMO    SNGS   AFLT   KMAZ    CHMF   RTKM  \\\n",
       "0  19180.00  26500.00  1053.97  3300.0  21.345  42.29  13.75  208.00  57.49   \n",
       "1  19295.00  28501.00  1098.70  3425.0  22.098  42.20  15.73  216.00  57.70   \n",
       "2  20308.00  29500.00  1117.39  3500.0  22.483  42.50  15.45  225.00  58.68   \n",
       "3  20885.00  29280.00  1133.51  3560.0  22.700  43.10  15.66  229.99  59.87   \n",
       "4  20991.03  28905.02  1139.50  3545.0  22.670  43.00  15.87  230.00  60.00   \n",
       "\n",
       "    MTSS   SVAV    TATN     GMKN  \n",
       "0  191.0  410.0  52.912  1736.50  \n",
       "1  194.0  412.0  55.397  1745.85  \n",
       "2  198.0  413.0  57.984  1805.22  \n",
       "3  205.0  419.0  57.512  1844.88  \n",
       "4  207.5  420.0  56.878  1849.99  "
      ]
     },
     "execution_count": 233,
     "metadata": {},
     "output_type": "execute_result"
    }
   ],
   "source": [
    "df_main_stocks.head()"
   ]
  },
  {
   "cell_type": "code",
   "execution_count": 230,
   "metadata": {
    "collapsed": false
   },
   "outputs": [
    {
     "name": "stderr",
     "output_type": "stream",
     "text": [
      "/home/yury/anaconda3/lib/python3.6/site-packages/ipykernel/__main__.py:14: SettingWithCopyWarning: \n",
      "A value is trying to be set on a copy of a slice from a DataFrame\n",
      "\n",
      "See the caveats in the documentation: http://pandas.pydata.org/pandas-docs/stable/indexing.html#indexing-view-versus-copy\n"
     ]
    }
   ],
   "source": [
    "df_new_stocks = make_df(dfs, datetime.date(datetime(2014, 6, 5)))"
   ]
  },
  {
   "cell_type": "code",
   "execution_count": 234,
   "metadata": {
    "collapsed": false
   },
   "outputs": [
    {
     "data": {
      "text/html": [
       "<div>\n",
       "<style scoped>\n",
       "    .dataframe tbody tr th:only-of-type {\n",
       "        vertical-align: middle;\n",
       "    }\n",
       "\n",
       "    .dataframe tbody tr th {\n",
       "        vertical-align: top;\n",
       "    }\n",
       "\n",
       "    .dataframe thead th {\n",
       "        text-align: right;\n",
       "    }\n",
       "</style>\n",
       "<table border=\"1\" class=\"dataframe\">\n",
       "  <thead>\n",
       "    <tr style=\"text-align: right;\">\n",
       "      <th></th>\n",
       "      <th>URKA</th>\n",
       "      <th>MGNT</th>\n",
       "      <th>NLMK</th>\n",
       "      <th>AFKS</th>\n",
       "      <th>SBER</th>\n",
       "      <th>MVID</th>\n",
       "      <th>TRNFP</th>\n",
       "      <th>LKOH</th>\n",
       "      <th>VSMO</th>\n",
       "      <th>AKRN</th>\n",
       "      <th>...</th>\n",
       "      <th>LSRG</th>\n",
       "      <th>RTKM</th>\n",
       "      <th>NVTK</th>\n",
       "      <th>VTBR</th>\n",
       "      <th>MTSS</th>\n",
       "      <th>SVAV</th>\n",
       "      <th>GAZP</th>\n",
       "      <th>TATN</th>\n",
       "      <th>GMKN</th>\n",
       "      <th>TRMK</th>\n",
       "    </tr>\n",
       "  </thead>\n",
       "  <tbody>\n",
       "    <tr>\n",
       "      <th>0</th>\n",
       "      <td>157.01</td>\n",
       "      <td>8970.0</td>\n",
       "      <td>48.33</td>\n",
       "      <td>43.400</td>\n",
       "      <td>87.81</td>\n",
       "      <td>260.02</td>\n",
       "      <td>77663.0</td>\n",
       "      <td>2047.0</td>\n",
       "      <td>8300.0</td>\n",
       "      <td>1369.9</td>\n",
       "      <td>...</td>\n",
       "      <td>613.0</td>\n",
       "      <td>86.74</td>\n",
       "      <td>382.15</td>\n",
       "      <td>0.05112</td>\n",
       "      <td>290.49</td>\n",
       "      <td>617.0</td>\n",
       "      <td>144.04</td>\n",
       "      <td>210.47</td>\n",
       "      <td>6898.0</td>\n",
       "      <td>81.39</td>\n",
       "    </tr>\n",
       "    <tr>\n",
       "      <th>1</th>\n",
       "      <td>154.50</td>\n",
       "      <td>8928.8</td>\n",
       "      <td>47.87</td>\n",
       "      <td>43.750</td>\n",
       "      <td>87.43</td>\n",
       "      <td>259.81</td>\n",
       "      <td>76500.0</td>\n",
       "      <td>2035.0</td>\n",
       "      <td>8200.0</td>\n",
       "      <td>1368.3</td>\n",
       "      <td>...</td>\n",
       "      <td>615.1</td>\n",
       "      <td>84.71</td>\n",
       "      <td>392.56</td>\n",
       "      <td>0.04844</td>\n",
       "      <td>297.00</td>\n",
       "      <td>645.5</td>\n",
       "      <td>142.75</td>\n",
       "      <td>208.79</td>\n",
       "      <td>6882.0</td>\n",
       "      <td>81.40</td>\n",
       "    </tr>\n",
       "    <tr>\n",
       "      <th>2</th>\n",
       "      <td>156.99</td>\n",
       "      <td>8980.0</td>\n",
       "      <td>49.27</td>\n",
       "      <td>44.290</td>\n",
       "      <td>89.00</td>\n",
       "      <td>258.99</td>\n",
       "      <td>77870.0</td>\n",
       "      <td>2030.6</td>\n",
       "      <td>8250.0</td>\n",
       "      <td>1234.0</td>\n",
       "      <td>...</td>\n",
       "      <td>623.9</td>\n",
       "      <td>86.16</td>\n",
       "      <td>403.17</td>\n",
       "      <td>0.04689</td>\n",
       "      <td>303.30</td>\n",
       "      <td>647.0</td>\n",
       "      <td>143.97</td>\n",
       "      <td>209.55</td>\n",
       "      <td>6975.0</td>\n",
       "      <td>85.58</td>\n",
       "    </tr>\n",
       "    <tr>\n",
       "      <th>3</th>\n",
       "      <td>154.05</td>\n",
       "      <td>8949.0</td>\n",
       "      <td>49.42</td>\n",
       "      <td>44.448</td>\n",
       "      <td>88.89</td>\n",
       "      <td>254.45</td>\n",
       "      <td>77050.0</td>\n",
       "      <td>2025.0</td>\n",
       "      <td>8020.0</td>\n",
       "      <td>1228.0</td>\n",
       "      <td>...</td>\n",
       "      <td>620.8</td>\n",
       "      <td>87.69</td>\n",
       "      <td>405.93</td>\n",
       "      <td>0.04731</td>\n",
       "      <td>297.55</td>\n",
       "      <td>648.0</td>\n",
       "      <td>144.40</td>\n",
       "      <td>207.63</td>\n",
       "      <td>7029.0</td>\n",
       "      <td>87.08</td>\n",
       "    </tr>\n",
       "    <tr>\n",
       "      <th>4</th>\n",
       "      <td>157.18</td>\n",
       "      <td>9100.0</td>\n",
       "      <td>48.60</td>\n",
       "      <td>45.499</td>\n",
       "      <td>88.99</td>\n",
       "      <td>256.00</td>\n",
       "      <td>77055.0</td>\n",
       "      <td>2061.4</td>\n",
       "      <td>8096.4</td>\n",
       "      <td>1196.0</td>\n",
       "      <td>...</td>\n",
       "      <td>627.5</td>\n",
       "      <td>88.80</td>\n",
       "      <td>401.37</td>\n",
       "      <td>0.04700</td>\n",
       "      <td>296.63</td>\n",
       "      <td>593.0</td>\n",
       "      <td>144.75</td>\n",
       "      <td>211.00</td>\n",
       "      <td>6900.0</td>\n",
       "      <td>89.69</td>\n",
       "    </tr>\n",
       "  </tbody>\n",
       "</table>\n",
       "<p>5 rows × 39 columns</p>\n",
       "</div>"
      ],
      "text/plain": [
       "     URKA    MGNT   NLMK    AFKS   SBER    MVID    TRNFP    LKOH    VSMO  \\\n",
       "0  157.01  8970.0  48.33  43.400  87.81  260.02  77663.0  2047.0  8300.0   \n",
       "1  154.50  8928.8  47.87  43.750  87.43  259.81  76500.0  2035.0  8200.0   \n",
       "2  156.99  8980.0  49.27  44.290  89.00  258.99  77870.0  2030.6  8250.0   \n",
       "3  154.05  8949.0  49.42  44.448  88.89  254.45  77050.0  2025.0  8020.0   \n",
       "4  157.18  9100.0  48.60  45.499  88.99  256.00  77055.0  2061.4  8096.4   \n",
       "\n",
       "     AKRN  ...     LSRG   RTKM    NVTK     VTBR    MTSS   SVAV    GAZP  \\\n",
       "0  1369.9  ...    613.0  86.74  382.15  0.05112  290.49  617.0  144.04   \n",
       "1  1368.3  ...    615.1  84.71  392.56  0.04844  297.00  645.5  142.75   \n",
       "2  1234.0  ...    623.9  86.16  403.17  0.04689  303.30  647.0  143.97   \n",
       "3  1228.0  ...    620.8  87.69  405.93  0.04731  297.55  648.0  144.40   \n",
       "4  1196.0  ...    627.5  88.80  401.37  0.04700  296.63  593.0  144.75   \n",
       "\n",
       "     TATN    GMKN   TRMK  \n",
       "0  210.47  6898.0  81.39  \n",
       "1  208.79  6882.0  81.40  \n",
       "2  209.55  6975.0  85.58  \n",
       "3  207.63  7029.0  87.08  \n",
       "4  211.00  6900.0  89.69  \n",
       "\n",
       "[5 rows x 39 columns]"
      ]
     },
     "execution_count": 234,
     "metadata": {},
     "output_type": "execute_result"
    }
   ],
   "source": [
    "df_new_stocks.head()"
   ]
  },
  {
   "cell_type": "code",
   "execution_count": 214,
   "metadata": {
    "collapsed": true
   },
   "outputs": [],
   "source": [
    "df_main_stocks.to_csv('data/moscow_main.csv')"
   ]
  },
  {
   "cell_type": "code",
   "execution_count": 232,
   "metadata": {
    "collapsed": true
   },
   "outputs": [],
   "source": [
    "df_new_stocks.to_csv('data/moscow_new.csv')"
   ]
  },
  {
   "cell_type": "code",
   "execution_count": 231,
   "metadata": {
    "collapsed": false
   },
   "outputs": [
    {
     "data": {
      "text/plain": [
       "Index(['URKA', 'MGNT', 'NLMK', 'AFKS', 'SBER', 'MVID', 'TRNFP', 'LKOH', 'VSMO',\n",
       "       'AKRN', 'SNGS', 'MAGN', 'AFLT', 'MSTT', 'KMAZ', 'CHMF', 'POLY', 'MOEX',\n",
       "       'PIKK', 'YNDX', 'ALRS', 'NMTP', 'MFON', 'ROSN', 'IRAO', 'BANE', 'HYDR',\n",
       "       'RUALR', 'BSPB', 'LSRG', 'RTKM', 'NVTK', 'VTBR', 'MTSS', 'SVAV', 'GAZP',\n",
       "       'TATN', 'GMKN', 'TRMK'],\n",
       "      dtype='object')"
      ]
     },
     "execution_count": 231,
     "metadata": {},
     "output_type": "execute_result"
    }
   ],
   "source": [
    "df_new_stocks.keys()"
   ]
  },
  {
   "cell_type": "code",
   "execution_count": null,
   "metadata": {
    "collapsed": true
   },
   "outputs": [],
   "source": []
  }
 ],
 "metadata": {
  "kernelspec": {
   "display_name": "Python 3",
   "language": "python",
   "name": "python3"
  },
  "language_info": {
   "codemirror_mode": {
    "name": "ipython",
    "version": 3
   },
   "file_extension": ".py",
   "mimetype": "text/x-python",
   "name": "python",
   "nbconvert_exporter": "python",
   "pygments_lexer": "ipython3",
   "version": "3.6.0"
  }
 },
 "nbformat": 4,
 "nbformat_minor": 2
}
